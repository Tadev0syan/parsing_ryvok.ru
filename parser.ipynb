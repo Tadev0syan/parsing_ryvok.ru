{
 "cells": [
  {
   "cell_type": "code",
   "execution_count": 27,
   "metadata": {},
   "outputs": [],
   "source": [
    "import requests\n",
    "from bs4 import BeautifulSoup\n",
    "import pandas as pd\n",
    "import gspread\n",
    "from datetime import datetime"
   ]
  },
  {
   "cell_type": "code",
   "execution_count": 28,
   "metadata": {},
   "outputs": [],
   "source": [
    "data = []\n",
    "page = 1\n",
    "max_page = 1"
   ]
  },
  {
   "cell_type": "code",
   "execution_count": 29,
   "metadata": {},
   "outputs": [],
   "source": [
    "while page <= max_page:\n",
    "    res = requests.get(f'https://ryvok.ru/instrumenty/shlifmashiny/?page={page}')\n",
    "    soup = BeautifulSoup(res.text, 'html')\n",
    "\n",
    "\n",
    "    elements = soup.find_all('div', class_ = 'app-product-card__bottom')\n",
    "\n",
    "\n",
    "    for element in elements:\n",
    "        data.append({\n",
    "            'title': element.find('div', class_ = 'app-product-card__title').text.strip(),\n",
    "            'status': element.find('div', class_ = 'app-product-card__status').text.strip(),\n",
    "            'price': element.find('div', class_ = 'app-product-card__price').text.strip().replace('\\xa0', '').replace(' ₽', ''),\n",
    "        })\n",
    "\n",
    "    pagination = soup.find('div', class_ = 'ui-pagination__numbers')\n",
    "    max_page = int(pagination.find_all('div', class_ = 'ui-pagination__number')[-1].text)\n",
    "    page += 1\n",
    "    # print(page, max_page)\n"
   ]
  },
  {
   "cell_type": "code",
   "execution_count": 30,
   "metadata": {},
   "outputs": [],
   "source": [
    "df = pd.DataFrame(data)\n",
    "df['timestamp'] = datetime.now().strftime('%Y-%m-%d %H:%M:%S')"
   ]
  },
  {
   "cell_type": "code",
   "execution_count": 31,
   "metadata": {},
   "outputs": [],
   "source": [
    "gc = gspread.service_account(filename='creds.json')\n",
    "wks = gc.open(\"parsing-1\").sheet1\n",
    "current_df = pd.DataFrame(wks.get_all_records())"
   ]
  },
  {
   "cell_type": "code",
   "execution_count": 32,
   "metadata": {},
   "outputs": [
    {
     "data": {
      "text/plain": [
       "{'spreadsheetId': '1m_ffckm9EMMKy2jBIT59e7oYWZfuDG5Fg6kDp1q_kdg',\n",
       " 'updatedRange': \"'Лист1'!A1:D2170\",\n",
       " 'updatedRows': 2170,\n",
       " 'updatedColumns': 4,\n",
       " 'updatedCells': 8680}"
      ]
     },
     "execution_count": 32,
     "metadata": {},
     "output_type": "execute_result"
    }
   ],
   "source": [
    "merged_df = pd.concat([df, current_df])\n",
    "merged_df.shape\n",
    "wks.update([merged_df.columns.values.tolist()] + merged_df.values.tolist())"
   ]
  }
 ],
 "metadata": {
  "kernelspec": {
   "display_name": ".venv",
   "language": "python",
   "name": "python3"
  },
  "language_info": {
   "codemirror_mode": {
    "name": "ipython",
    "version": 3
   },
   "file_extension": ".py",
   "mimetype": "text/x-python",
   "name": "python",
   "nbconvert_exporter": "python",
   "pygments_lexer": "ipython3",
   "version": "3.12.3"
  }
 },
 "nbformat": 4,
 "nbformat_minor": 2
}
